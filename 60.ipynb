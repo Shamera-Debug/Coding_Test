{
 "cells": [
  {
   "cell_type": "markdown",
   "metadata": {},
   "source": [
    "# n^2 배열 자르기"
   ]
  },
  {
   "cell_type": "code",
   "execution_count": 21,
   "metadata": {},
   "outputs": [
    {
     "name": "stdout",
     "output_type": "stream",
     "text": [
      "[4, 3, 3, 3, 4, 4, 4, 4]\n"
     ]
    }
   ],
   "source": [
    "n = 4\n",
    "answer = []\n",
    "left = 7\n",
    "right = 14\n",
    "\n",
    "for i in range(n):\n",
    "    answer += [i+1]*(i+1)\n",
    "    next = n - (i+1)\n",
    "    for j in range(next):\n",
    "        answer += [i+2]\n",
    "        i+=1\n",
    "        \n",
    "\n",
    "print(answer[left:right+1])"
   ]
  },
  {
   "cell_type": "code",
   "execution_count": null,
   "metadata": {},
   "outputs": [],
   "source": [
    "def solution(n, left, right):\n",
    "    answer = []\n",
    "    for i in range(n):\n",
    "        answer += [i+1]*(i+1)\n",
    "        next = n - (i+1)\n",
    "        for j in range(next):\n",
    "            answer += [i+2]\n",
    "            i+=1\n",
    "    return answer[left:right+1]"
   ]
  },
  {
   "cell_type": "code",
   "execution_count": 36,
   "metadata": {},
   "outputs": [],
   "source": [
    "n = 3\n",
    "answer = []\n",
    "left = 2\n",
    "right = 5"
   ]
  },
  {
   "cell_type": "code",
   "execution_count": null,
   "metadata": {},
   "outputs": [],
   "source": [
    "left = left+1\n",
    "right = right+1\n",
    "count = right-left + 1\n",
    "move = left\n",
    "while(count > 0):\n",
    "    div = move//n\n",
    "    percent = move%n\n",
    "    print(div,percent,move)\n",
    "    if percent == 0:\n",
    "        answer += [n]\n",
    "    elif div+1>=percent:\n",
    "        answer += [div+1]\n",
    "    elif div+1 < percent:\n",
    "        answer += [percent]\n",
    "    move += 1\n",
    "    count -= 1\n",
    "\n",
    "print(answer)"
   ]
  },
  {
   "cell_type": "markdown",
   "metadata": {},
   "source": [
    "# 의상"
   ]
  },
  {
   "cell_type": "code",
   "execution_count": 14,
   "metadata": {},
   "outputs": [],
   "source": [
    "clothes = [[\"yellow_hat\", \"headgear\"], [\"blue_sunglasses\", \"eyewear\"], [\"green_turban\", \"headgear\"]]"
   ]
  },
  {
   "cell_type": "code",
   "execution_count": 15,
   "metadata": {},
   "outputs": [
    {
     "data": {
      "text/plain": [
       "dict_items([('headgear', ['yellow_hat', 'green_turban']), ('eyewear', ['blue_sunglasses'])])"
      ]
     },
     "execution_count": 15,
     "metadata": {},
     "output_type": "execute_result"
    }
   ],
   "source": [
    "closet = {} \n",
    "for name, kind in clothes:\n",
    "    if kind in closet.keys():\n",
    "        closet[kind] += [name]\n",
    "    else:\n",
    "        closet[kind] = [name]\n",
    "\n",
    "closet.items()"
   ]
  },
  {
   "cell_type": "code",
   "execution_count": 17,
   "metadata": {},
   "outputs": [
    {
     "name": "stdout",
     "output_type": "stream",
     "text": [
      "5\n"
     ]
    }
   ],
   "source": [
    "answer = 1\n",
    "for _, value in closet.items():\n",
    "    answer *= (len(value)+1)\n",
    "    \n",
    "\n",
    "print(answer-1)"
   ]
  },
  {
   "cell_type": "markdown",
   "metadata": {},
   "source": [
    "# 캐시[카카오]"
   ]
  },
  {
   "cell_type": "code",
   "execution_count": 22,
   "metadata": {},
   "outputs": [],
   "source": [
    "cacheSize = 3\n",
    "cities = [\"Jeju\", \"Pangyo\", \"Seoul\", \"NewYork\", \"LA\", \"Jeju\", \"Pangyo\", \"Seoul\", \"NewYork\", \"LA\"]"
   ]
  },
  {
   "cell_type": "code",
   "execution_count": null,
   "metadata": {},
   "outputs": [],
   "source": [
    "cache = []\n",
    "answer = 0\n",
    "\n",
    "for i, city in enumerate(cities):\n",
    "    if i >= cacheSize:\n",
    "        if city in cache:\n",
    "            answer += 1\n",
    "            print('+1')\n",
    "            print(city, answer)\n",
    "        else:\n",
    "            answer += 5\n",
    "            print('+5')\n",
    "            print(city, answer)\n",
    "        cache.pop(0)\n",
    "        cache.append(city)\n",
    "    else:\n",
    "        answer += 5\n",
    "        cache.append(city)\n",
    "\n",
    "print(answer)"
   ]
  },
  {
   "cell_type": "code",
   "execution_count": 45,
   "metadata": {},
   "outputs": [],
   "source": [
    "cacheSize = 2\n",
    "cities = [\"a\", \"a\", \"a\", \"b\", \"b\", \"b\", \"c\", \"c\", \"c\"]"
   ]
  },
  {
   "cell_type": "code",
   "execution_count": 46,
   "metadata": {},
   "outputs": [
    {
     "name": "stdout",
     "output_type": "stream",
     "text": [
      "[]\n"
     ]
    },
    {
     "data": {
      "text/plain": [
       "21"
      ]
     },
     "execution_count": 46,
     "metadata": {},
     "output_type": "execute_result"
    }
   ],
   "source": [
    "def solution(cacheSize, cities):\n",
    "    answer = 0\n",
    "    cache = []\n",
    "    \n",
    "    for i, city in enumerate(cities):\n",
    "        city = city.lower()\n",
    "        if cacheSize ==0:\n",
    "            answer = 5 * len(cities)\n",
    "        elif i >= cacheSize:\n",
    "            if city in cache:\n",
    "                answer += 1\n",
    "            else:\n",
    "                answer += 5\n",
    "            cache.pop(0)\n",
    "            cache.append(city)\n",
    "        else:\n",
    "            if city in cache:\n",
    "                cache.remove(city)\n",
    "                answer += 1\n",
    "                print(cache)\n",
    "            else:         \n",
    "                answer += 5\n",
    "            cache.append(city)\n",
    "    \n",
    "    return answer\n",
    "\n",
    "solution(cacheSize, cities)"
   ]
  }
 ],
 "metadata": {
  "kernelspec": {
   "display_name": "ml-dev",
   "language": "python",
   "name": "python3"
  },
  "language_info": {
   "codemirror_mode": {
    "name": "ipython",
    "version": 3
   },
   "file_extension": ".py",
   "mimetype": "text/x-python",
   "name": "python",
   "nbconvert_exporter": "python",
   "pygments_lexer": "ipython3",
   "version": "3.10.13"
  }
 },
 "nbformat": 4,
 "nbformat_minor": 2
}
