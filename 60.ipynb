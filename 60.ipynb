{
 "cells": [
  {
   "cell_type": "markdown",
   "metadata": {},
   "source": [
    "# n^2 배열 자르기"
   ]
  },
  {
   "cell_type": "code",
   "execution_count": 21,
   "metadata": {},
   "outputs": [
    {
     "name": "stdout",
     "output_type": "stream",
     "text": [
      "[4, 3, 3, 3, 4, 4, 4, 4]\n"
     ]
    }
   ],
   "source": [
    "n = 4\n",
    "answer = []\n",
    "left = 7\n",
    "right = 14\n",
    "\n",
    "for i in range(n):\n",
    "    answer += [i+1]*(i+1)\n",
    "    next = n - (i+1)\n",
    "    for j in range(next):\n",
    "        answer += [i+2]\n",
    "        i+=1\n",
    "        \n",
    "\n",
    "print(answer[left:right+1])"
   ]
  },
  {
   "cell_type": "code",
   "execution_count": null,
   "metadata": {},
   "outputs": [],
   "source": [
    "def solution(n, left, right):\n",
    "    answer = []\n",
    "    for i in range(n):\n",
    "        answer += [i+1]*(i+1)\n",
    "        next = n - (i+1)\n",
    "        for j in range(next):\n",
    "            answer += [i+2]\n",
    "            i+=1\n",
    "    return answer[left:right+1]"
   ]
  },
  {
   "cell_type": "code",
   "execution_count": 36,
   "metadata": {},
   "outputs": [],
   "source": [
    "n = 3\n",
    "answer = []\n",
    "left = 2\n",
    "right = 5"
   ]
  },
  {
   "cell_type": "code",
   "execution_count": null,
   "metadata": {},
   "outputs": [],
   "source": [
    "left = left+1\n",
    "right = right+1\n",
    "count = right-left + 1\n",
    "move = left\n",
    "while(count > 0):\n",
    "    div = move//n\n",
    "    percent = move%n\n",
    "    print(div,percent,move)\n",
    "    if percent == 0:\n",
    "        answer += [n]\n",
    "    elif div+1>=percent:\n",
    "        answer += [div+1]\n",
    "    elif div+1 < percent:\n",
    "        answer += [percent]\n",
    "    move += 1\n",
    "    count -= 1\n",
    "\n",
    "print(answer)"
   ]
  },
  {
   "cell_type": "markdown",
   "metadata": {},
   "source": [
    "# 의상"
   ]
  },
  {
   "cell_type": "code",
   "execution_count": null,
   "metadata": {},
   "outputs": [],
   "source": [
    "    closet = {} \n",
    "    for name, kind in clothes:\n",
    "        if kind in closet.keys():\n",
    "            closet[kind] += [name]\n",
    "        else:\n",
    "            closet[kind] = [name]"
   ]
  }
 ],
 "metadata": {
  "kernelspec": {
   "display_name": "ml-dev",
   "language": "python",
   "name": "python3"
  },
  "language_info": {
   "codemirror_mode": {
    "name": "ipython",
    "version": 3
   },
   "file_extension": ".py",
   "mimetype": "text/x-python",
   "name": "python",
   "nbconvert_exporter": "python",
   "pygments_lexer": "ipython3",
   "version": "3.10.13"
  }
 },
 "nbformat": 4,
 "nbformat_minor": 2
}
