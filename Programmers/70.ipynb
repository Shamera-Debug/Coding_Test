{
 "cells": [
  {
   "cell_type": "markdown",
   "metadata": {},
   "source": [
    "# 최대값과 최소값"
   ]
  },
  {
   "cell_type": "code",
   "execution_count": 38,
   "metadata": {},
   "outputs": [],
   "source": [
    "s1 = \"1 2 3 4\"\n",
    "s2 = \"-1 -2 -3 -4\"\n",
    "s3 = \"-1 -1\""
   ]
  },
  {
   "cell_type": "code",
   "execution_count": 39,
   "metadata": {},
   "outputs": [
    {
     "data": {
      "text/plain": [
       "['1', '2', '3', '4']"
      ]
     },
     "execution_count": 39,
     "metadata": {},
     "output_type": "execute_result"
    }
   ],
   "source": [
    "s = s1.split(' ')\n",
    "s"
   ]
  },
  {
   "cell_type": "code",
   "execution_count": 40,
   "metadata": {},
   "outputs": [
    {
     "data": {
      "text/plain": [
       "[1, 2, 3, 4]"
      ]
     },
     "execution_count": 40,
     "metadata": {},
     "output_type": "execute_result"
    }
   ],
   "source": [
    "n = [int(i) for i in s]\n",
    "n"
   ]
  },
  {
   "cell_type": "code",
   "execution_count": 41,
   "metadata": {},
   "outputs": [],
   "source": [
    "def solution(s):\n",
    "    answer = ''\n",
    "    s_split = s.split(' ')\n",
    "    s_int = [int(i) for i in s_split]\n",
    "    s_int.sort()\n",
    "    answer += str(s_int[0]) + ' ' + str(s_int[-1])\n",
    "    return answer"
   ]
  },
  {
   "cell_type": "code",
   "execution_count": 42,
   "metadata": {},
   "outputs": [
    {
     "data": {
      "text/plain": [
       "'1 4'"
      ]
     },
     "execution_count": 42,
     "metadata": {},
     "output_type": "execute_result"
    }
   ],
   "source": [
    "solution(s1)"
   ]
  },
  {
   "cell_type": "markdown",
   "metadata": {},
   "source": [
    "# JadenCase 문자열 만들기"
   ]
  },
  {
   "cell_type": "code",
   "execution_count": 35,
   "metadata": {},
   "outputs": [],
   "source": [
    "s1 = \"3people     unFollowed  me\"\n",
    "s2 = \"  for the what 1what  \""
   ]
  },
  {
   "cell_type": "code",
   "execution_count": 37,
   "metadata": {},
   "outputs": [
    {
     "name": "stdout",
     "output_type": "stream",
     "text": [
      "['3people', '', '', '', '', 'unfollowed', '', 'me']\n",
      "3people     Unfollowed  Me\n",
      "['', '', 'for', 'the', 'what', '1what', '', '']\n",
      "  For The What 1what  \n"
     ]
    }
   ],
   "source": [
    "def solution(s):\n",
    "    answer = ''\n",
    "    s_lower = s.lower()\n",
    "    s_split = s_lower.split(' ')\n",
    "    print(s_split)\n",
    "    for i, word in enumerate(s_split):\n",
    "        if word:\n",
    "            answer += word[0].upper() + word[1:]\n",
    "        if i < len(s_split) - 1:\n",
    "            answer += ' '\n",
    "            \n",
    "    return answer\n",
    "\n",
    "print(solution(s1))\n",
    "print(solution(s2))"
   ]
  },
  {
   "cell_type": "markdown",
   "metadata": {},
   "source": [
    "# 최소값 만들기"
   ]
  },
  {
   "cell_type": "code",
   "execution_count": 47,
   "metadata": {},
   "outputs": [],
   "source": [
    "A = [1, 4, 2]\n",
    "B = [5, 4, 4]"
   ]
  },
  {
   "cell_type": "code",
   "execution_count": 55,
   "metadata": {},
   "outputs": [
    {
     "data": {
      "text/plain": [
       "([1, 2, 4], [5, 4, 4])"
      ]
     },
     "execution_count": 55,
     "metadata": {},
     "output_type": "execute_result"
    }
   ],
   "source": [
    "A.sort()\n",
    "B.sort(reverse=True)\n",
    "A,B"
   ]
  },
  {
   "cell_type": "code",
   "execution_count": 61,
   "metadata": {},
   "outputs": [
    {
     "data": {
      "text/plain": [
       "29"
      ]
     },
     "execution_count": 61,
     "metadata": {},
     "output_type": "execute_result"
    }
   ],
   "source": [
    "def solution(A,B):\n",
    "    answer = 0\n",
    "    A.sort()\n",
    "    B.sort(reverse=True)\n",
    "\n",
    "    for a,b in zip(A,B):\n",
    "        answer += a*b\n",
    "\n",
    "    return answer\n",
    "solution(A,B)"
   ]
  },
  {
   "cell_type": "markdown",
   "metadata": {},
   "source": [
    "# 올바른 괄호"
   ]
  },
  {
   "cell_type": "code",
   "execution_count": 71,
   "metadata": {},
   "outputs": [],
   "source": [
    "s = \")()(\""
   ]
  },
  {
   "cell_type": "code",
   "execution_count": 76,
   "metadata": {},
   "outputs": [],
   "source": [
    "def solution(s):\n",
    "    count = 0\n",
    "    s_slist = list(s)\n",
    "    for h in s_slist:\n",
    "        if h=='(':\n",
    "            count += 1\n",
    "        if h==')':\n",
    "            count += -1\n",
    "            if count < 0:\n",
    "                return False\n",
    "\n",
    "    if count == 0:\n",
    "        return True\n",
    "    else:\n",
    "        return False"
   ]
  },
  {
   "cell_type": "code",
   "execution_count": 77,
   "metadata": {},
   "outputs": [
    {
     "name": "stdout",
     "output_type": "stream",
     "text": [
      "[')', '(', ')', '(']\n",
      ")\n"
     ]
    },
    {
     "data": {
      "text/plain": [
       "False"
      ]
     },
     "execution_count": 77,
     "metadata": {},
     "output_type": "execute_result"
    }
   ],
   "source": [
    "solution(s)"
   ]
  },
  {
   "cell_type": "markdown",
   "metadata": {},
   "source": [
    "# 연속 부분 수열 합의 개수"
   ]
  },
  {
   "cell_type": "code",
   "execution_count": 9,
   "metadata": {},
   "outputs": [],
   "source": [
    "elements = [7,9,1,1,4]"
   ]
  },
  {
   "cell_type": "code",
   "execution_count": 14,
   "metadata": {},
   "outputs": [],
   "source": [
    "def solution(elements):\n",
    "    ele_len = len(elements)\n",
    "    elements = elements * 2\n",
    "    temp = set()\n",
    "    for i in range(ele_len):\n",
    "        for h in range(ele_len):\n",
    "            temp.add(sum(elements[h:h+i]))\n",
    "    \n",
    "    return len(temp)"
   ]
  },
  {
   "cell_type": "code",
   "execution_count": 15,
   "metadata": {},
   "outputs": [
    {
     "name": "stdout",
     "output_type": "stream",
     "text": [
      "18\n"
     ]
    }
   ],
   "source": [
    "print(solution(elements))"
   ]
  },
  {
   "cell_type": "markdown",
   "metadata": {},
   "source": [
    "# 할인 행사"
   ]
  },
  {
   "cell_type": "code",
   "execution_count": 89,
   "metadata": {},
   "outputs": [],
   "source": [
    "want = [\"banana\", \"apple\", \"rice\", \"pork\", \"pot\"]\n",
    "number = [3, 2, 2, 2, 1]\n",
    "discount = [\"chicken\", \"apple\", \"apple\", \"banana\", \"rice\", \"apple\", \"pork\", \"banana\", \"pork\", \"rice\", \"pot\", \"banana\", \"apple\", \"banana\"]"
   ]
  },
  {
   "cell_type": "code",
   "execution_count": 81,
   "metadata": {},
   "outputs": [],
   "source": [
    "temp = []"
   ]
  },
  {
   "cell_type": "code",
   "execution_count": 82,
   "metadata": {},
   "outputs": [
    {
     "name": "stdout",
     "output_type": "stream",
     "text": [
      "['banana', 'banana', 'banana', 'apple', 'apple', 'rice', 'rice', 'pork', 'pork', 'pot']\n"
     ]
    }
   ],
   "source": [
    "for i, ele in enumerate(number):\n",
    "    for h in range(ele):\n",
    "        temp.append(want[i])\n",
    "print(temp)"
   ]
  },
  {
   "cell_type": "code",
   "execution_count": 98,
   "metadata": {},
   "outputs": [
    {
     "name": "stdout",
     "output_type": "stream",
     "text": [
      "3\n"
     ]
    }
   ],
   "source": [
    "temp = []\n",
    "answer = 0\n",
    "\n",
    "wants = []\n",
    "for i, ele in enumerate(number):\n",
    "    wants += [want[i]]*ele\n",
    "\n",
    "wants = sorted(wants)\n",
    "\n",
    "for i in range(len(discount)-10):\n",
    "    cut_discount = discount[i:i+10]\n",
    "    for j in range(len(cut_discount)):\n",
    "        if cut_discount[j] in wants:\n",
    "            wants.remove(cut_discount[j])\n",
    "    \n",
    "    if len(wants) == 0:\n",
    "        answer += 1\n",
    "print(answer)"
   ]
  },
  {
   "cell_type": "code",
   "execution_count": 100,
   "metadata": {},
   "outputs": [],
   "source": [
    "wants = []\n",
    "for i, ele in enumerate(number):\n",
    "    wants += [want[i]]*ele\n",
    "\n",
    "wants = sorted(wants)\n",
    "\n",
    "for i in range(len(discount[:-len(wants)+1])):\n",
    "    answer += int(wants == sorted(discount[i:len(wants)+i]))\n"
   ]
  },
  {
   "cell_type": "code",
   "execution_count": null,
   "metadata": {},
   "outputs": [],
   "source": []
  }
 ],
 "metadata": {
  "kernelspec": {
   "display_name": "ml-dev",
   "language": "python",
   "name": "python3"
  },
  "language_info": {
   "codemirror_mode": {
    "name": "ipython",
    "version": 3
   },
   "file_extension": ".py",
   "mimetype": "text/x-python",
   "name": "python",
   "nbconvert_exporter": "python",
   "pygments_lexer": "ipython3",
   "version": "3.10.13"
  }
 },
 "nbformat": 4,
 "nbformat_minor": 2
}
