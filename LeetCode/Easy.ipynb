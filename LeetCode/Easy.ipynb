{
 "cells": [
  {
   "cell_type": "markdown",
   "metadata": {},
   "source": [
    "# 125. Valid Palindrome"
   ]
  },
  {
   "cell_type": "code",
   "execution_count": 22,
   "metadata": {},
   "outputs": [],
   "source": [
    "import re\n",
    "import collections"
   ]
  },
  {
   "cell_type": "code",
   "execution_count": 16,
   "metadata": {},
   "outputs": [],
   "source": [
    "class Solution:\n",
    "    def isPalindrome(self, s: str) -> bool:\n",
    "        s = s.lower()\n",
    "        s = re.sub('[^a-z0-9]','',s)\n",
    "        print(s)\n",
    "        print(s[::-1])\n",
    "        return s == s[::-1]"
   ]
  },
  {
   "cell_type": "code",
   "execution_count": 25,
   "metadata": {},
   "outputs": [],
   "source": [
    "class Solution:\n",
    "    def isPalindrome(self, s: str) -> bool:\n",
    "        strs: collections.deque = collections.deque()\n",
    "        \n",
    "        for char in s:\n",
    "            if char.isalnum():\n",
    "                strs.append(char.lower())\n",
    "        \n",
    "        print(strs)\n",
    "        \n",
    "        while(len(strs)>1):\n",
    "            if strs.popleft() != strs.pop():\n",
    "                return False\n",
    "        \n",
    "        return True"
   ]
  },
  {
   "cell_type": "code",
   "execution_count": 26,
   "metadata": {},
   "outputs": [
    {
     "name": "stdout",
     "output_type": "stream",
     "text": [
      "deque(['a', 'm', 'a', 'n', 'a', 'p', 'l', 'a', 'n', 'a', 'c', 'a', 'n', 'a', 'l', 'p', 'a', 'n', 'a', 'm', 'a'])\n"
     ]
    },
    {
     "data": {
      "text/plain": [
       "True"
      ]
     },
     "execution_count": 26,
     "metadata": {},
     "output_type": "execute_result"
    }
   ],
   "source": [
    "s = 'A man, a plan, a canal: Panama'\n",
    "solution = Solution()\n",
    "solution.isPalindrome(s)"
   ]
  },
  {
   "cell_type": "markdown",
   "metadata": {},
   "source": [
    "# 344. Reverse String"
   ]
  },
  {
   "cell_type": "code",
   "execution_count": null,
   "metadata": {},
   "outputs": [],
   "source": [
    "from typing import List\n",
    "class Solution:\n",
    "    def reverseString(self, s: List[str]) -> None:\n",
    "        \"\"\"\n",
    "        Do not return anything, modify s in-place instead.\n",
    "        \"\"\"\n",
    "        s_copy = s.copy()\n",
    "        for i, char in enumerate(s_copy):\n",
    "            if len(s_copy)%2==1 and i==len(s_copy)/2+1:\n",
    "                break\n",
    "            else:\n",
    "                s[i]=s_copy[len(s_copy)-i-1]"
   ]
  },
  {
   "cell_type": "markdown",
   "metadata": {},
   "source": [
    "# 937. Reorder Data in Log Files"
   ]
  },
  {
   "cell_type": "code",
   "execution_count": 3,
   "metadata": {},
   "outputs": [],
   "source": [
    "from typing import List\n",
    "class Solution:\n",
    "    def reorderLogFiles(self, logs: List[str]) -> List[str]:\n",
    "        digit_log = []\n",
    "        string_log = []\n",
    "        \n",
    "        for log in logs:\n",
    "            split_log = log.split(' ')\n",
    "            if split_log[1].isdigit():\n",
    "                digit_log.append(log)\n",
    "            else:\n",
    "                string_log.append(log)\n",
    "        \n",
    "        string_log.sort(key=lambda x: (x.split()[1:], x.split()[0]))\n",
    "        \n",
    "        return string_log + digit_log"
   ]
  },
  {
   "cell_type": "code",
   "execution_count": 4,
   "metadata": {},
   "outputs": [
    {
     "data": {
      "text/plain": [
       "['let1 art can',\n",
       " 'let3 art zero',\n",
       " 'let2 own kit dig',\n",
       " 'dig1 8 1 5 1',\n",
       " 'dig2 3 6']"
      ]
     },
     "execution_count": 4,
     "metadata": {},
     "output_type": "execute_result"
    }
   ],
   "source": [
    "logs = [\"dig1 8 1 5 1\",\"let1 art can\",\"dig2 3 6\",\"let2 own kit dig\",\"let3 art zero\"]\n",
    "solution = Solution()\n",
    "solution.reorderLogFiles(logs)"
   ]
  },
  {
   "cell_type": "markdown",
   "metadata": {},
   "source": [
    "# 819. Most Common Word"
   ]
  },
  {
   "cell_type": "code",
   "execution_count": 5,
   "metadata": {},
   "outputs": [],
   "source": [
    "paragraph = \"Bob hit a ball, the hit BALL flew far after it was hit.\"\n",
    "banned = [\"hit\"]"
   ]
  },
  {
   "cell_type": "code",
   "execution_count": 12,
   "metadata": {},
   "outputs": [
    {
     "data": {
      "text/plain": [
       "['bob',\n",
       " 'hit',\n",
       " 'a',\n",
       " 'ball',\n",
       " 'the',\n",
       " 'hit',\n",
       " 'ball',\n",
       " 'flew',\n",
       " 'far',\n",
       " 'after',\n",
       " 'it',\n",
       " 'was',\n",
       " 'hit']"
      ]
     },
     "execution_count": 12,
     "metadata": {},
     "output_type": "execute_result"
    }
   ],
   "source": [
    "import re\n",
    "words = []\n",
    "for word in paragraph.lower().split():\n",
    "    words.append(re.sub('[^\\w]','',word))\n",
    "\n",
    "words"
   ]
  },
  {
   "cell_type": "code",
   "execution_count": 21,
   "metadata": {},
   "outputs": [
    {
     "name": "stdout",
     "output_type": "stream",
     "text": [
      "defaultdict(<class 'int'>, {'bob': 1, 'hit': 3, 'a': 1, 'ball': 2, 'the': 1, 'flew': 1, 'far': 1, 'after': 1, 'it': 1, 'was': 1})\n",
      "hit\n"
     ]
    }
   ],
   "source": [
    "import collections\n",
    "counts = collections.defaultdict(int)\n",
    "for word in words:\n",
    "    counts[word] += 1\n",
    "\n",
    "print(counts)\n",
    "print(max(counts, key=counts.get))"
   ]
  },
  {
   "cell_type": "code",
   "execution_count": 31,
   "metadata": {},
   "outputs": [],
   "source": [
    "class Solution:\n",
    "    def mostCommonWord(self, paragraph: str, banned: List[str]) -> str:\n",
    "        words = []\n",
    "        for word in re.sub('[^\\w]',' ',paragraph).lower().split():\n",
    "            if word not in banned:\n",
    "                words.append(word)\n",
    "        \n",
    "        counts = collections.defaultdict(int)\n",
    "        for word in words:\n",
    "            counts[word] += 1\n",
    "        \n",
    "        return max(counts, key=counts.get)"
   ]
  },
  {
   "cell_type": "code",
   "execution_count": 33,
   "metadata": {},
   "outputs": [
    {
     "data": {
      "text/plain": [
       "'b'"
      ]
     },
     "execution_count": 33,
     "metadata": {},
     "output_type": "execute_result"
    }
   ],
   "source": [
    "paragraph = \"a, a, a, a, b,b,b,c, c\"\n",
    "banned = [\"a\"]\n",
    "\n",
    "solution = Solution()\n",
    "solution.mostCommonWord(paragraph, banned)"
   ]
  },
  {
   "cell_type": "code",
   "execution_count": null,
   "metadata": {},
   "outputs": [],
   "source": []
  }
 ],
 "metadata": {
  "kernelspec": {
   "display_name": "ml-dev",
   "language": "python",
   "name": "python3"
  },
  "language_info": {
   "codemirror_mode": {
    "name": "ipython",
    "version": 3
   },
   "file_extension": ".py",
   "mimetype": "text/x-python",
   "name": "python",
   "nbconvert_exporter": "python",
   "pygments_lexer": "ipython3",
   "version": "3.10.13"
  }
 },
 "nbformat": 4,
 "nbformat_minor": 2
}
