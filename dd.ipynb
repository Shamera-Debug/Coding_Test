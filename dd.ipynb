{
 "cells": [
  {
   "cell_type": "code",
   "execution_count": 3,
   "metadata": {},
   "outputs": [],
   "source": [
    "import numpy as np\n",
    "\n",
    "def getStatistics(*args):\n",
    "    if not args:\n",
    "        return 0,0,0,0\n",
    "    \n",
    "    count = len(args)\n",
    "    mean = np.mean(args)\n",
    "    variance = np.var(args)\n",
    "    std_dev = np.std(args)\n",
    "    \n",
    "    return count, mean, variance, std_dev"
   ]
  },
  {
   "cell_type": "code",
   "execution_count": 4,
   "metadata": {},
   "outputs": [
    {
     "name": "stdout",
     "output_type": "stream",
     "text": [
      "숫자 개수: 5\n",
      "평균: 3.0\n",
      "분산: 2.0\n",
      "표준편차: 1.4142135623730951 \n",
      "\n"
     ]
    }
   ],
   "source": [
    "cnt, mean, var, std = getStatistics(1,2,3,4,5)\n",
    "print(\"숫자 개수:\", cnt)\n",
    "print(\"평균:\", mean)\n",
    "print(\"분산:\", var)\n",
    "print(\"표준편차:\", std, \"\\n\")"
   ]
  },
  {
   "cell_type": "code",
   "execution_count": 5,
   "metadata": {},
   "outputs": [
    {
     "name": "stdout",
     "output_type": "stream",
     "text": [
      "숫자 개수: 3\n",
      "평균: 95.0\n",
      "분산: 16.666666666666668\n",
      "표준편차: 4.08248290463863 \n",
      "\n"
     ]
    }
   ],
   "source": [
    "cnt, mean, var, std = getStatistics(90, 100, 95)\n",
    "print(\"숫자 개수:\", cnt)\n",
    "print(\"평균:\", mean)\n",
    "print(\"분산:\", var)\n",
    "print(\"표준편차:\", std, \"\\n\")"
   ]
  },
  {
   "cell_type": "code",
   "execution_count": 6,
   "metadata": {},
   "outputs": [
    {
     "name": "stdout",
     "output_type": "stream",
     "text": [
      "숫자 개수: 1\n",
      "평균: 10.0\n",
      "분산: 0.0\n",
      "표준편차: 0.0 \n",
      "\n"
     ]
    }
   ],
   "source": [
    "cnt, mean, var, std = getStatistics(10)\n",
    "print(\"숫자 개수:\", cnt)\n",
    "print(\"평균:\", mean)\n",
    "print(\"분산:\", var)\n",
    "print(\"표준편차:\", std, \"\\n\")"
   ]
  }
 ],
 "metadata": {
  "kernelspec": {
   "display_name": "ml-dev",
   "language": "python",
   "name": "python3"
  },
  "language_info": {
   "codemirror_mode": {
    "name": "ipython",
    "version": 3
   },
   "file_extension": ".py",
   "mimetype": "text/x-python",
   "name": "python",
   "nbconvert_exporter": "python",
   "pygments_lexer": "ipython3",
   "version": "3.10.13"
  }
 },
 "nbformat": 4,
 "nbformat_minor": 2
}
